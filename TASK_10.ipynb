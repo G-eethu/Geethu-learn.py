{
  "nbformat": 4,
  "nbformat_minor": 0,
  "metadata": {
    "colab": {
      "name": "TASK 10.ipynb",
      "provenance": [],
      "include_colab_link": true
    },
    "kernelspec": {
      "name": "python3",
      "display_name": "Python 3"
    },
    "language_info": {
      "name": "python"
    }
  },
  "cells": [
    {
      "cell_type": "markdown",
      "metadata": {
        "id": "view-in-github",
        "colab_type": "text"
      },
      "source": [
        "<a href=\"https://colab.research.google.com/github/G-eethu/Geethu-learn.py/blob/main/TASK_10.ipynb\" target=\"_parent\"><img src=\"https://colab.research.google.com/assets/colab-badge.svg\" alt=\"Open In Colab\"/></a>"
      ]
    },
    {
      "cell_type": "markdown",
      "metadata": {
        "id": "VHKxwUewxOi2"
      },
      "source": [
        "1. Generate two  3 x 3 matrix and find it's dot product and take the transpose of the answer."
      ]
    },
    {
      "cell_type": "code",
      "metadata": {
        "id": "RdyKd1CAxZtR",
        "outputId": "1cee39f5-108d-44c1-94d3-02101e9e869e",
        "colab": {
          "base_uri": "https://localhost:8080/"
        }
      },
      "source": [
        "#please provide your answer below this line.\n",
        "import numpy as np\n",
        "matrix1 = np.random.randint(0,10,(3,3))\n",
        "matrix2 = np.random.randint(0,10,(3,3)) \n",
        "print(matrix1)\n",
        "print(matrix2)\n",
        "dot = np.dot(matrix1,matrix2)\n",
        "print(dot)"
      ],
      "execution_count": 2,
      "outputs": [
        {
          "output_type": "stream",
          "text": [
            "[[5 4 8]\n",
            " [5 3 9]\n",
            " [4 0 2]]\n",
            "[[9 9 6]\n",
            " [5 5 9]\n",
            " [7 5 1]]\n",
            "[[121 105  74]\n",
            " [123 105  66]\n",
            " [ 50  46  26]]\n"
          ],
          "name": "stdout"
        }
      ]
    },
    {
      "cell_type": "markdown",
      "metadata": {
        "id": "9c9ZwiBxxf4t"
      },
      "source": [
        "2. Create a 3x3 matrix with elements [55,25,15], [30,44,2], [11,45,77] . Now find the determinant of the given matrix."
      ]
    },
    {
      "cell_type": "code",
      "metadata": {
        "id": "Anmr3C9KyNyy",
        "outputId": "1630b849-8328-48a9-9f77-bbe4a34e9710",
        "colab": {
          "base_uri": "https://localhost:8080/"
        }
      },
      "source": [
        " \n",
        "#please provide your answer below this line.\n",
        "import numpy as np\n",
        "matrix = [[55,25,15],[30,44,2],[11,45,77]]\n",
        "print(matrix)\n",
        "det = np.linalg.det(matrix)\n",
        "print(det)"
      ],
      "execution_count": 3,
      "outputs": [
        {
          "output_type": "stream",
          "text": [
            "[[55, 25, 15], [30, 44, 2], [11, 45, 77]]\n",
            "137180.0000000001\n"
          ],
          "name": "stdout"
        }
      ]
    }
  ]
}