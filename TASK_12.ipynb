{
  "nbformat": 4,
  "nbformat_minor": 0,
  "metadata": {
    "colab": {
      "name": "TASK 12.ipynb",
      "provenance": [],
      "include_colab_link": true
    },
    "kernelspec": {
      "name": "python3",
      "display_name": "Python 3"
    },
    "language_info": {
      "name": "python"
    }
  },
  "cells": [
    {
      "cell_type": "markdown",
      "metadata": {
        "id": "view-in-github",
        "colab_type": "text"
      },
      "source": [
        "<a href=\"https://colab.research.google.com/github/G-eethu/Geethu-learn.py/blob/main/TASK_12.ipynb\" target=\"_parent\"><img src=\"https://colab.research.google.com/assets/colab-badge.svg\" alt=\"Open In Colab\"/></a>"
      ]
    },
    {
      "cell_type": "markdown",
      "metadata": {
        "id": "i9LeFsII-SAQ"
      },
      "source": [
        "1. Create an 4x4 array with elements ranging from 0-15. And find the trace of the array."
      ]
    },
    {
      "cell_type": "code",
      "metadata": {
        "id": "eT1ymGjZ-pOZ",
        "outputId": "a41ca1a3-06c2-4fb5-e6f4-19a39c265cef",
        "colab": {
          "base_uri": "https://localhost:8080/"
        }
      },
      "source": [
        "#please type your answer below this line.\n",
        "import numpy as np \n",
        "mat = np.random.randint(0,15,(4,4))\n",
        "print(\"Array\\n\",mat)\n",
        "print(\"Trace of the Array is: \\n\",mat.trace())"
      ],
      "execution_count": 2,
      "outputs": [
        {
          "output_type": "stream",
          "text": [
            "Array\n",
            " [[ 9  6  1  5]\n",
            " [13 11 10  5]\n",
            " [13  9  4  3]\n",
            " [ 2  2 11  0]]\n",
            "Trace of the Array is: \n",
            " 24\n"
          ],
          "name": "stdout"
        }
      ]
    },
    {
      "cell_type": "markdown",
      "metadata": {
        "id": "Hw69FYds-zww"
      },
      "source": [
        "2. Create a matrix with elements [6,1,1],[4,-2,5],[2,8,7].Now find the inverse this matrix."
      ]
    },
    {
      "cell_type": "code",
      "metadata": {
        "id": "IAhA-qIwAoxs",
        "outputId": "5afcf80f-1c3b-4cf6-93fa-09c9cc9bcb0b",
        "colab": {
          "base_uri": "https://localhost:8080/"
        }
      },
      "source": [
        "#please type your answer below this line.\n",
        "import numpy as np\n",
        "mat = np.array([[6,1,1],[4,-2,5],[2,8,7]])\n",
        "print(\"Matix\\n\",mat)\n",
        "print(\"\\nThe Inverse of Matrix is :\\n\",np.linalg.inv(mat))"
      ],
      "execution_count": 3,
      "outputs": [
        {
          "output_type": "stream",
          "text": [
            "Matix\n",
            " [[ 6  1  1]\n",
            " [ 4 -2  5]\n",
            " [ 2  8  7]]\n",
            "\n",
            "The Inverse of Matrix is :\n",
            " [[ 0.17647059 -0.00326797 -0.02287582]\n",
            " [ 0.05882353 -0.13071895  0.08496732]\n",
            " [-0.11764706  0.1503268   0.05228758]]\n"
          ],
          "name": "stdout"
        }
      ]
    },
    {
      "cell_type": "markdown",
      "metadata": {
        "id": "6B6aJDFKAz0B"
      },
      "source": [
        "3. Create an 3x3 array with elements ranging from 0-8. And find the norm this array."
      ]
    },
    {
      "cell_type": "code",
      "metadata": {
        "id": "49RVb-g3CXSk",
        "outputId": "b31c3dd2-cfc9-4031-ab57-583c04ceb1de",
        "colab": {
          "base_uri": "https://localhost:8080/"
        }
      },
      "source": [
        "#please type your answer below this line.\n",
        "import numpy as np \n",
        "mat = np.random.randint(0,8,(3,3))\n",
        "print(\"Array\\n\",mat)\n",
        "print(\"\\nThe Norm of the Matrix is\\n\",np.linalg.norm(mat))"
      ],
      "execution_count": 4,
      "outputs": [
        {
          "output_type": "stream",
          "text": [
            "Array\n",
            " [[7 1 3]\n",
            " [5 2 6]\n",
            " [3 2 7]]\n",
            "\n",
            "The Norm of the Matrix is\n",
            " 13.638181696985855\n"
          ],
          "name": "stdout"
        }
      ]
    },
    {
      "cell_type": "markdown",
      "metadata": {
        "id": "pGKEu4lxDCJK"
      },
      "source": [
        "4. Create a 4x4 array whose value ranging from 0-15.And find the eigenvalues and eigenvectors of this array."
      ]
    },
    {
      "cell_type": "code",
      "metadata": {
        "id": "dyymkid0DTth",
        "outputId": "455ae42d-3df8-40f5-e462-a1e116fb5b6e",
        "colab": {
          "base_uri": "https://localhost:8080/"
        }
      },
      "source": [
        "#please type your answer below this line.\n",
        "import numpy as np\n",
        "mat = np.random.randint(0,15,(4,4))\n",
        "print(\"Array\\n\",mat)\n",
        "print(\"\\nThe EigenValue and EigenVectors of the Matrix is\\n\",np.linalg.eig(mat))"
      ],
      "execution_count": 5,
      "outputs": [
        {
          "output_type": "stream",
          "text": [
            "Array\n",
            " [[14  2  3  9]\n",
            " [13 12 13 14]\n",
            " [ 0 12  6  5]\n",
            " [11 12  0  7]]\n",
            "\n",
            "The EigenValue and EigenVectors of the Matrix is\n",
            " (array([33.99974235, 11.57620409, -0.90181702, -5.67412943]), array([[ 0.33743795,  0.52820578,  0.41847963, -0.32996141],\n",
            "       [ 0.72273225, -0.41223718,  0.16632067, -0.51049447],\n",
            "       [ 0.39165554, -0.71795594,  0.31583745,  0.19507597],\n",
            "       [ 0.45869343,  0.18867546, -0.83514007,  0.76971828]]))\n"
          ],
          "name": "stdout"
        }
      ]
    }
  ]
}