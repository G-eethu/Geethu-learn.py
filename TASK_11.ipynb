{
  "nbformat": 4,
  "nbformat_minor": 0,
  "metadata": {
    "colab": {
      "name": "TASK 11.ipynb",
      "provenance": [],
      "include_colab_link": true
    },
    "kernelspec": {
      "name": "python3",
      "display_name": "Python 3"
    },
    "language_info": {
      "name": "python"
    }
  },
  "cells": [
    {
      "cell_type": "markdown",
      "metadata": {
        "id": "view-in-github",
        "colab_type": "text"
      },
      "source": [
        "<a href=\"https://colab.research.google.com/github/G-eethu/Geethu-learn.py/blob/main/TASK_11.ipynb\" target=\"_parent\"><img src=\"https://colab.research.google.com/assets/colab-badge.svg\" alt=\"Open In Colab\"/></a>"
      ]
    },
    {
      "cell_type": "markdown",
      "metadata": {
        "id": "Ud2gZIbu6E59"
      },
      "source": [
        "N.B: Please find the answers by applying the functions on the matrices"
      ]
    },
    {
      "cell_type": "markdown",
      "metadata": {
        "id": "_9JX1Vdn4sTN"
      },
      "source": [
        "1. Create 2 3×3 matrix with 0-8 and 10-19 as elements in each and perform the vectorize multiplication operations on the matrices.(Outer product, Dot product, Element wise product)."
      ]
    },
    {
      "cell_type": "code",
      "metadata": {
        "id": "aBzAn6Z75VQ6",
        "outputId": "e39619fa-893d-4e76-ffea-5953a0262fd8",
        "colab": {
          "base_uri": "https://localhost:8080/"
        }
      },
      "source": [
        "#please type your answer below this line.\n",
        "import numpy as np \n",
        " \n",
        "mat1 = np.random.randint(0,8,(3,3))\n",
        "mat2 = np.random.randint(10,19,(3,3))   \n",
        "print(\"Matrix A\\n\" ,mat1)  \n",
        "print(\"\\nMatrix B\\n\" ,mat2) \n",
        "out = np.multiply.outer(mat1,mat2)\n",
        "print(\"Outer Products\\n\",out) \n",
        "dot = np.dot(mat1,mat2)\n",
        "print(\"Dot Products\\n\",dot) \n",
        "Ele = np.multiply(mat1,mat2)\n",
        "print(\"Element Wise\\n\",Ele)"
      ],
      "execution_count": 2,
      "outputs": [
        {
          "output_type": "stream",
          "text": [
            "Matrix A\n",
            " [[3 7 3]\n",
            " [6 3 2]\n",
            " [7 2 3]]\n",
            "\n",
            "Matrix B\n",
            " [[10 14 18]\n",
            " [10 10 18]\n",
            " [11 11 15]]\n",
            "Outer Products\n",
            " [[[[ 30  42  54]\n",
            "   [ 30  30  54]\n",
            "   [ 33  33  45]]\n",
            "\n",
            "  [[ 70  98 126]\n",
            "   [ 70  70 126]\n",
            "   [ 77  77 105]]\n",
            "\n",
            "  [[ 30  42  54]\n",
            "   [ 30  30  54]\n",
            "   [ 33  33  45]]]\n",
            "\n",
            "\n",
            " [[[ 60  84 108]\n",
            "   [ 60  60 108]\n",
            "   [ 66  66  90]]\n",
            "\n",
            "  [[ 30  42  54]\n",
            "   [ 30  30  54]\n",
            "   [ 33  33  45]]\n",
            "\n",
            "  [[ 20  28  36]\n",
            "   [ 20  20  36]\n",
            "   [ 22  22  30]]]\n",
            "\n",
            "\n",
            " [[[ 70  98 126]\n",
            "   [ 70  70 126]\n",
            "   [ 77  77 105]]\n",
            "\n",
            "  [[ 20  28  36]\n",
            "   [ 20  20  36]\n",
            "   [ 22  22  30]]\n",
            "\n",
            "  [[ 30  42  54]\n",
            "   [ 30  30  54]\n",
            "   [ 33  33  45]]]]\n",
            "Dot Products\n",
            " [[133 145 225]\n",
            " [112 136 192]\n",
            " [123 151 207]]\n",
            "Element Wise\n",
            " [[30 98 54]\n",
            " [60 30 36]\n",
            " [77 22 45]]\n"
          ],
          "name": "stdout"
        }
      ]
    },
    {
      "cell_type": "markdown",
      "metadata": {
        "id": "gJGtIjx25k92"
      },
      "source": [
        "2. Create a 4×4 matrix with 0-16  as elements in it. Add a scalar 4 to the matrix and also multiply it with [1,2,3,4] 1-D matrix by broadcasting. ( Please note to do both the addition and multiplication by broadcasting.)"
      ]
    },
    {
      "cell_type": "code",
      "metadata": {
        "id": "H7cznh8M56r-",
        "outputId": "4cb40946-57df-4078-e00d-5ce46601a6bd",
        "colab": {
          "base_uri": "https://localhost:8080/"
        }
      },
      "source": [
        "#please type your answer below this line.\n",
        "import numpy as np \n",
        "mat = np.random.randint(0,16,(4,4))\n",
        "print(\"Matrix is \\n\", mat) \n",
        "#adding 4(scalar)to the matrix\n",
        "scal = 2\n",
        "addScal = mat + scal\n",
        "print(\"\\n Scalar Matrix\\n\",addScal) \n",
        "#matrix broadcasting\n",
        "nums = np.array([1,2,3,4])\n",
        "mult = mat * nums\n",
        "print(\"\\nThe Multiplication by broadcasting\\n\",mult)"
      ],
      "execution_count": 3,
      "outputs": [
        {
          "output_type": "stream",
          "text": [
            "Matrix is \n",
            " [[ 3  2  6 11]\n",
            " [ 3 15  2  1]\n",
            " [13  7  9  1]\n",
            " [ 7 12 14  8]]\n",
            "\n",
            " Scalar Matrix\n",
            " [[ 5  4  8 13]\n",
            " [ 5 17  4  3]\n",
            " [15  9 11  3]\n",
            " [ 9 14 16 10]]\n",
            "\n",
            "The Multiplication by broadcasting\n",
            " [[ 3  4 18 44]\n",
            " [ 3 30  6  4]\n",
            " [13 14 27  4]\n",
            " [ 7 24 42 32]]\n"
          ],
          "name": "stdout"
        }
      ]
    }
  ]
}