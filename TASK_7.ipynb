{
  "nbformat": 4,
  "nbformat_minor": 0,
  "metadata": {
    "colab": {
      "name": "TASK  7.ipynb",
      "provenance": [],
      "include_colab_link": true
    },
    "kernelspec": {
      "name": "python3",
      "display_name": "Python 3"
    },
    "language_info": {
      "name": "python"
    }
  },
  "cells": [
    {
      "cell_type": "markdown",
      "metadata": {
        "id": "view-in-github",
        "colab_type": "text"
      },
      "source": [
        "<a href=\"https://colab.research.google.com/github/G-eethu/Geethu-learn.py/blob/main/TASK_7.ipynb\" target=\"_parent\"><img src=\"https://colab.research.google.com/assets/colab-badge.svg\" alt=\"Open In Colab\"/></a>"
      ]
    },
    {
      "cell_type": "markdown",
      "metadata": {
        "id": "b0V3vwzcydKy"
      },
      "source": [
        "1. Write a program to check whether a  string is palindrome or not using functions. \n",
        "\n",
        "   ( A function is to be created to check whether the string is palindrome and it should give the output true or false to the main program)"
      ]
    },
    {
      "cell_type": "code",
      "metadata": {
        "id": "M2Mi7EOdyxiu",
        "outputId": "1efd0a0e-c422-4041-d4c4-f6200efdcc50",
        "colab": {
          "base_uri": "https://localhost:8080/"
        }
      },
      "source": [
        "#please enter the code below this line.\n",
        "def palindrome(str): \n",
        "    if str[::-1]==str: \n",
        "       print(\"entered string is palindrome\") \n",
        "    else: \n",
        "       print(\"entered string is not palindrome\")\n",
        "str= input(\"enter a string :\")\n",
        "palindrome(str)"
      ],
      "execution_count": 11,
      "outputs": [
        {
          "output_type": "stream",
          "text": [
            "enter a string :12521\n",
            "entered string is palindrome\n"
          ],
          "name": "stdout"
        }
      ]
    },
    {
      "cell_type": "markdown",
      "metadata": {
        "id": "vSiShTyOzEz-"
      },
      "source": [
        "2.  Write a menu driven program to find largest element in L, smallest element, avg of all values, sum of all values in L. All these operation should be performed in different functions and the result should be returned.\n",
        "\n",
        "\n",
        "      L=[23,24,11,90,1,41,9,99,28,56,72]"
      ]
    },
    {
      "cell_type": "code",
      "metadata": {
        "id": "fRtMIw_CzsmO",
        "outputId": "56b80101-d3f7-4c45-f08b-5db31ee99840",
        "colab": {
          "base_uri": "https://localhost:8080/"
        }
      },
      "source": [
        "#please enter the code below this line.\n",
        "L=[23,24,11,90,1,41,9,99,28,56,72]\n",
        "def large(L): \n",
        "   max = L[0] \n",
        "   for x in L:\n",
        "       if x > max : \n",
        "            max = x \n",
        "   return max\n",
        "print(\"Largest element is:\", large(L))\n",
        "def small(L): \n",
        "   min = L[0]\n",
        "   for x in L:\n",
        "       if x < min : \n",
        "            min = x\n",
        "   return min\n",
        "print(\"small element is:\", small(L))\n",
        "def sum(L): \n",
        "  s=0 \n",
        "  for y in L: \n",
        "    s=s+y \n",
        "  return s\n",
        "print(\"sum of elements in list:\",sum(L))\n",
        "def avg(L):\n",
        "  avg=sum(L)/len(L)\n",
        "  return avg\n",
        "print(\"average of elements in list is:\",round(avg(L),3))"
      ],
      "execution_count": 1,
      "outputs": [
        {
          "output_type": "stream",
          "text": [
            "Largest element is: 99\n",
            "small element is: 1\n",
            "sum of elements in list: 454\n",
            "average of elements in list is: 41.273\n"
          ],
          "name": "stdout"
        }
      ]
    }
  ]
}