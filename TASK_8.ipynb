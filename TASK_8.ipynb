{
  "nbformat": 4,
  "nbformat_minor": 0,
  "metadata": {
    "colab": {
      "name": "TASK 8.ipynb",
      "provenance": [],
      "include_colab_link": true
    },
    "kernelspec": {
      "name": "python3",
      "display_name": "Python 3"
    },
    "language_info": {
      "name": "python"
    }
  },
  "cells": [
    {
      "cell_type": "markdown",
      "metadata": {
        "id": "view-in-github",
        "colab_type": "text"
      },
      "source": [
        "<a href=\"https://colab.research.google.com/github/G-eethu/Geethu-learn.py/blob/main/TASK_8.ipynb\" target=\"_parent\"><img src=\"https://colab.research.google.com/assets/colab-badge.svg\" alt=\"Open In Colab\"/></a>"
      ]
    },
    {
      "cell_type": "markdown",
      "metadata": {
        "id": "slsGswYbJSo7"
      },
      "source": [
        "1. Generate a 3 x 3 matrix using random module."
      ]
    },
    {
      "cell_type": "code",
      "metadata": {
        "id": "GGRQSYyNJW9t",
        "outputId": "237062d4-4a59-45ae-fdbf-f2fc2b5247f2",
        "colab": {
          "base_uri": "https://localhost:8080/"
        }
      },
      "source": [
        "#please provide your answer below this line.\n",
        "import numpy as np\n",
        "x=np.random.random((3,3))\n",
        "print(x)"
      ],
      "execution_count": 4,
      "outputs": [
        {
          "output_type": "stream",
          "text": [
            "[[0.08298448 0.72978653 0.33198045]\n",
            " [0.97645106 0.48056223 0.28911758]\n",
            " [0.96017433 0.4516092  0.95329798]]\n"
          ],
          "name": "stdout"
        }
      ]
    },
    {
      "cell_type": "markdown",
      "metadata": {
        "id": "4OB9KFX6JfYA"
      },
      "source": [
        "2. Generate two 4 x 4 matrix using numpy and \n",
        "\n",
        " a) Reshape it to 2 x 8matrix and vertically stack it.\n",
        "\n",
        " b) Reshape it to 2 x 8 matrix and horizontally stack it."
      ]
    },
    {
      "cell_type": "code",
      "metadata": {
        "id": "VoIqYeNWJ4H_",
        "outputId": "c7e767c5-d08a-47e4-ab74-80e92950467b",
        "colab": {
          "base_uri": "https://localhost:8080/"
        }
      },
      "source": [
        "#please provide your answer below this line.\n",
        " \n",
        "import numpy as np\n",
        "x=np.array([(1,2,3,4),(5,6,7,8),(8,7,6,5),(4,3,2,1)])\n",
        "y=np.array([(1,2,3,4),(5,6,7,8),(8,7,6,5),(4,3,2,1)])\n",
        "print(x)\n",
        "print()\n",
        "print(y)\n",
        "print()\n",
        "x1=x.reshape(2,8)\n",
        "y1=y.reshape(2,8)\n",
        "print(\"after reshaping\")\n",
        "print()\n",
        "print(x1)\n",
        "print()\n",
        "print(y1) \n",
        "np.vstack((x1,y1)) \n",
        "np.hstack((x1,y1))"
      ],
      "execution_count": 5,
      "outputs": [
        {
          "output_type": "stream",
          "text": [
            "[[1 2 3 4]\n",
            " [5 6 7 8]\n",
            " [8 7 6 5]\n",
            " [4 3 2 1]]\n",
            "\n",
            "[[1 2 3 4]\n",
            " [5 6 7 8]\n",
            " [8 7 6 5]\n",
            " [4 3 2 1]]\n",
            "\n",
            "after reshaping\n",
            "\n",
            "[[1 2 3 4 5 6 7 8]\n",
            " [8 7 6 5 4 3 2 1]]\n",
            "\n",
            "[[1 2 3 4 5 6 7 8]\n",
            " [8 7 6 5 4 3 2 1]]\n"
          ],
          "name": "stdout"
        },
        {
          "output_type": "execute_result",
          "data": {
            "text/plain": [
              "array([[1, 2, 3, 4, 5, 6, 7, 8, 1, 2, 3, 4, 5, 6, 7, 8],\n",
              "       [8, 7, 6, 5, 4, 3, 2, 1, 8, 7, 6, 5, 4, 3, 2, 1]])"
            ]
          },
          "metadata": {
            "tags": []
          },
          "execution_count": 5
        }
      ]
    }
  ]
}