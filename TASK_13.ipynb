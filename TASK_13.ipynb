{
  "nbformat": 4,
  "nbformat_minor": 0,
  "metadata": {
    "colab": {
      "name": "TASK 13.ipynb",
      "provenance": [],
      "include_colab_link": true
    },
    "kernelspec": {
      "name": "python3",
      "display_name": "Python 3"
    },
    "language_info": {
      "name": "python"
    }
  },
  "cells": [
    {
      "cell_type": "markdown",
      "metadata": {
        "id": "view-in-github",
        "colab_type": "text"
      },
      "source": [
        "<a href=\"https://colab.research.google.com/github/G-eethu/Geethu-learn.py/blob/main/TASK_13.ipynb\" target=\"_parent\"><img src=\"https://colab.research.google.com/assets/colab-badge.svg\" alt=\"Open In Colab\"/></a>"
      ]
    },
    {
      "cell_type": "markdown",
      "metadata": {
        "id": "RUSoRkrOqNwf"
      },
      "source": [
        "1. Create a 3x3 array values ranging from 0-8.Find the sum of the elements in this array."
      ]
    },
    {
      "cell_type": "code",
      "metadata": {
        "id": "t01ATYQpqq8u",
        "outputId": "32e1a163-920d-4956-fd24-24b1ed6ad6fe",
        "colab": {
          "base_uri": "https://localhost:8080/"
        }
      },
      "source": [
        "#please enter your code below this line.\n",
        "import numpy as np\n",
        "mat = np.random.randint(0,8,(3,3))\n",
        "print(\"\\n The Matrix is:\\n\",mat)\n",
        "sum = np.sum(mat)\n",
        "print(\"\\n Sum is :\\n\",sum)"
      ],
      "execution_count": 1,
      "outputs": [
        {
          "output_type": "stream",
          "text": [
            "\n",
            " The Matrix is:\n",
            " [[3 7 5]\n",
            " [0 5 2]\n",
            " [0 0 0]]\n",
            "\n",
            " Sum is :\n",
            " 22\n"
          ],
          "name": "stdout"
        }
      ]
    },
    {
      "cell_type": "markdown",
      "metadata": {
        "id": "k3Y7nQF7r3IW"
      },
      "source": [
        "2. Create a 3x3 array values ranging from 0-8.Find the row sum and column sum of this array."
      ]
    },
    {
      "cell_type": "code",
      "metadata": {
        "id": "BzvIlWfvsICv",
        "outputId": "86771ce4-6add-4d27-e456-1d8d125987c2",
        "colab": {
          "base_uri": "https://localhost:8080/"
        }
      },
      "source": [
        "#please enter your code below this line.\n",
        "import numpy as np\n",
        "mat = np.random.randint(0,8,(3,3))\n",
        "print(\"\\n The Matrix is:\\n\",mat)\n",
        "col = np.sum(mat,axis =0)\n",
        "print(\"\\n Sum of Columns:\\n\",col)\n",
        "row = np.sum(mat,axis =1)\n",
        "print(\"\\n Sum of Columns:\\n\",row)"
      ],
      "execution_count": 2,
      "outputs": [
        {
          "output_type": "stream",
          "text": [
            "\n",
            " The Matrix is:\n",
            " [[7 2 2]\n",
            " [5 2 1]\n",
            " [0 4 6]]\n",
            "\n",
            " Sum of Columns:\n",
            " [12  8  9]\n",
            "\n",
            " Sum of Columns:\n",
            " [11  8 10]\n"
          ],
          "name": "stdout"
        }
      ]
    },
    {
      "cell_type": "markdown",
      "metadata": {
        "id": "KOPMsbnrsgue"
      },
      "source": [
        "3. Create a 4x4 array values ranging from 0-15. Now,\n",
        "\n",
        "    a) Find the mininmum value in the array.\n",
        "    \n",
        "    b) Find the maximum value in the array.\n",
        "\n",
        "    c) Find the mean of the values in the array."
      ]
    },
    {
      "cell_type": "code",
      "metadata": {
        "id": "1UzITxp3WDaW",
        "outputId": "72cc46c2-cfdb-418b-d6dc-9d751a11179d",
        "colab": {
          "base_uri": "https://localhost:8080/"
        }
      },
      "source": [
        "#please enter your code belowthis line.\n",
        "import numpy as np\n",
        "mat = np.random.randint(0,15,(4,4))\n",
        "print(\"\\n The Matrix is:\\n\",mat) \n",
        "min = np.min(mat)\n",
        "print(\"\\n Minimum Value is\\n\",min) \n",
        "max = np.max(mat)\n",
        "print(\"\\n Maximum Value is\\n\",max) \n",
        "mean = np.mean(mat)\n",
        "print(\"\\n Minimum Value is\\n\",mean)"
      ],
      "execution_count": 3,
      "outputs": [
        {
          "output_type": "stream",
          "text": [
            "\n",
            " The Matrix is:\n",
            " [[12 12 12  0]\n",
            " [ 3  4  9 10]\n",
            " [ 2  6 10 12]\n",
            " [ 8 13 12  1]]\n",
            "\n",
            " Minimum Value is\n",
            " 0\n",
            "\n",
            " Maximum Value is\n",
            " 13\n",
            "\n",
            " Minimum Value is\n",
            " 7.875\n"
          ],
          "name": "stdout"
        }
      ]
    },
    {
      "cell_type": "markdown",
      "metadata": {
        "id": "Pah9qGButoz2"
      },
      "source": [
        "4. Create an 10x10 array values ranging from 0-99.And ,\n",
        "\n",
        "    a) Print the 7th row.\n",
        "    \n",
        "    b) Print the rows from 4-8.\n",
        "\n",
        "    c) Print the value at the index 5,5.\n",
        "\n",
        "    d) Print the 5th colomn.\n",
        "\n",
        "    e) Print the columns from 2-5."
      ]
    },
    {
      "cell_type": "code",
      "metadata": {
        "id": "JFXPq0GkvhKi",
        "outputId": "56a6ab03-784d-4656-e82e-bd8931daf318",
        "colab": {
          "base_uri": "https://localhost:8080/"
        }
      },
      "source": [
        "#please enter your code below this line.\n",
        "import numpy as np\n",
        "mat = np.random.randint(0,99,(10,10))\n",
        "print(\"\\n The Matrix is:\\n\",mat)\n",
        "print(\"\\nThe 7th row is :\\n\",mat[7,:]) \n",
        "print(\"\\nThe 4-8th row is :\\n\",mat[4:8,:])\n",
        "print(\"\\nThe value at (5,5) is :\\n\",mat[5,5]) \n",
        "print(\"\\nThe 5th column) is :\\n\",mat[:,5])\n",
        "print(\"\\nThe 2-5th column) is :\\n\",mat[:,2:5])"
      ],
      "execution_count": 4,
      "outputs": [
        {
          "output_type": "stream",
          "text": [
            "\n",
            " The Matrix is:\n",
            " [[87 70 55 84 12  1 13  6 73 88]\n",
            " [95 98  7 53  1 82 73  2 53 82]\n",
            " [44 26 89 28 21 84 20 95 77 67]\n",
            " [95 95  6 37  5 28 72 33 16 59]\n",
            " [98 49 96 75 49 34 80 49 15 97]\n",
            " [26 46 11  9 33 45 85 16  3 25]\n",
            " [17  4 89 16 31 55 64 10 50  4]\n",
            " [ 2 43 12 23 22 80 48 25 27 60]\n",
            " [85  0 78  7 60 72  2 55 63 80]\n",
            " [84 96 83 15 77 76 51 21  8 70]]\n",
            "\n",
            "The 7th row is :\n",
            " [ 2 43 12 23 22 80 48 25 27 60]\n",
            "\n",
            "The 4-8th row is :\n",
            " [[98 49 96 75 49 34 80 49 15 97]\n",
            " [26 46 11  9 33 45 85 16  3 25]\n",
            " [17  4 89 16 31 55 64 10 50  4]\n",
            " [ 2 43 12 23 22 80 48 25 27 60]]\n",
            "\n",
            "The value at (5,5) is :\n",
            " 45\n",
            "\n",
            "The 5th column) is :\n",
            " [ 1 82 84 28 34 45 55 80 72 76]\n",
            "\n",
            "The 2-5th column) is :\n",
            " [[55 84 12]\n",
            " [ 7 53  1]\n",
            " [89 28 21]\n",
            " [ 6 37  5]\n",
            " [96 75 49]\n",
            " [11  9 33]\n",
            " [89 16 31]\n",
            " [12 23 22]\n",
            " [78  7 60]\n",
            " [83 15 77]]\n"
          ],
          "name": "stdout"
        }
      ]
    }
  ]
}